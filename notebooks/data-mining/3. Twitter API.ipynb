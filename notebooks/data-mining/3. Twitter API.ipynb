{
 "metadata": {
  "name": "",
  "signature": "sha256:cf456697bea046551257aa9fb7eaf09f0280024ac5f7db881b965d58e72cda37"
 },
 "nbformat": 3,
 "nbformat_minor": 0,
 "worksheets": [
  {
   "cells": [
    {
     "cell_type": "heading",
     "level": 1,
     "metadata": {},
     "source": [
      "Tutorial WAL"
     ]
    },
    {
     "cell_type": "markdown",
     "metadata": {},
     "source": [
      "We will be using tweepy library to perform data mine on twitter.\n",
      "\n",
      "##Twitter API\n",
      "\n",
      "https://apps.twitter.com/\n",
      "\n",
      "###Topics:\n",
      "\n",
      "**Topic 1**: Register You App.\n",
      "\n",
      "**Topic 2**: Using REST API\n",
      "\n",
      "**Video Tutorial**:\n",
      "\n",
      "https://www.youtube.com/user/roshanRush"
     ]
    },
    {
     "cell_type": "heading",
     "level": 1,
     "metadata": {},
     "source": [
      "Import the library"
     ]
    },
    {
     "cell_type": "code",
     "collapsed": false,
     "input": [
      "import tweepy\n",
      "import pandas as pd\n",
      "import matplotlib.pyplot as plt\n",
      "\n",
      "pd.options.display.max_columns = 50\n",
      "pd.options.display.max_rows= 50\n",
      "pd.options.display.width= 120"
     ],
     "language": "python",
     "metadata": {},
     "outputs": [],
     "prompt_number": 1
    },
    {
     "cell_type": "heading",
     "level": 1,
     "metadata": {},
     "source": [
      "Authentication"
     ]
    },
    {
     "cell_type": "code",
     "collapsed": false,
     "input": [
      "consumer_key = \"\" # Use your own key. To get a key https://apps.twitter.com/\n",
      "consumer_secret = \"\"\n",
      "\n",
      "auth = tweepy.OAuthHandler(consumer_key=consumer_key, consumer_secret=consumer_secret)\n",
      "\n",
      "api = tweepy.API(auth)"
     ],
     "language": "python",
     "metadata": {},
     "outputs": [],
     "prompt_number": 2
    },
    {
     "cell_type": "heading",
     "level": 1,
     "metadata": {},
     "source": [
      "REST API"
     ]
    },
    {
     "cell_type": "heading",
     "level": 2,
     "metadata": {},
     "source": [
      "Searching for Tweets"
     ]
    },
    {
     "cell_type": "markdown",
     "metadata": {},
     "source": [
      "###`API.search(q[, lang][, locale][, rpp][, page][, since_id][, geocode][, show_user])`\n",
      "```\n",
      "\n",
      "    Returns tweets that match a specified query.\n",
      "    Parameters:\t\n",
      "\n",
      "        q \u2013 the search query string\n",
      "        lang \u2013 Restricts tweets to the given language, given by an ISO 639-1 code.\n",
      "        locale \u2013 Specify the language of the query you are sending. This is intended for language-specific clients and the default should work in the majority of cases.\n",
      "        rpp \u2013 The number of tweets to return per page, up to a max of 100.\n",
      "        page \u2013 The page number (starting at 1) to return, up to a max of roughly 1500 results (based on rpp * page.\n",
      "        geocode \u2013 Returns tweets by users located within a given radius of the given latitude/longitude. The location is preferentially taking from the Geotagging API, but will fall back to their Twitter profile. The parameter value is specified by \u201clatitide,longitude,radius\u201d, where radius units must be specified as either \u201cmi\u201d (miles) or \u201ckm\u201d (kilometers). Note that you cannot use the near operator via the API to geocode arbitrary locations; however you can use this geocode parameter to search near geocodes directly.\n",
      "        show_user \u2013 When true, prepends \u201c<user>:\u201d to the beginning of the tweet. This is useful for readers that do not display Atom\u2019s author field. The default is false.\n",
      "\n",
      "    Return type:\t\n",
      "\n",
      "    list of SearchResult objects\n",
      "```"
     ]
    },
    {
     "cell_type": "code",
     "collapsed": false,
     "input": [
      "results = api.search(q=\"IPython\")"
     ],
     "language": "python",
     "metadata": {},
     "outputs": [],
     "prompt_number": 3
    },
    {
     "cell_type": "heading",
     "level": 3,
     "metadata": {},
     "source": [
      "Inspecting Results"
     ]
    },
    {
     "cell_type": "code",
     "collapsed": false,
     "input": [
      "len(results)"
     ],
     "language": "python",
     "metadata": {},
     "outputs": [
      {
       "metadata": {},
       "output_type": "pyout",
       "prompt_number": 4,
       "text": [
        "15"
       ]
      }
     ],
     "prompt_number": 4
    },
    {
     "cell_type": "code",
     "collapsed": false,
     "input": [
      "def print_tweet(tweet):\n",
      "    print \"@%s - %s (%s)\" % (tweet.user.screen_name, tweet.user.name, tweet.created_at)\n",
      "    print tweet.text\n",
      "\n",
      "tweet=results[1]\n",
      "print_tweet(tweet)"
     ],
     "language": "python",
     "metadata": {},
     "outputs": [
      {
       "output_type": "stream",
       "stream": "stdout",
       "text": [
        "@josephmisiti - joseph misiti (2014-10-12 16:31:53)\n",
        "RT @datamusing: Easy sort and slice of pandas dataframe views.  http://t.co/68KyqDidkO\n"
       ]
      }
     ],
     "prompt_number": 5
    },
    {
     "cell_type": "heading",
     "level": 3,
     "metadata": {},
     "source": [
      "Inspecting a Status Object"
     ]
    },
    {
     "cell_type": "code",
     "collapsed": false,
     "input": [
      "tweet=results[2]\n",
      "\n",
      "for param in dir(tweet):\n",
      "    if not param.startswith(\"_\"):\n",
      "        print \"%s : %s\" % (param, eval(\"tweet.\" + param))"
     ],
     "language": "python",
     "metadata": {},
     "outputs": [
      {
       "output_type": "stream",
       "stream": "stdout",
       "text": [
        "author : <tweepy.models.User object at 0x7f854492d650>\n",
        "contributors : None\n",
        "coordinates : None\n",
        "created_at : 2014-10-12 16:26:20\n",
        "destroy : <bound method Status.destroy of <tweepy.models.Status object at 0x7f854492d4d0>>\n",
        "entities : {'symbols': [], 'user_mentions': [{'id': 20167623, 'indices': [3, 13], 'id_str': '20167623', 'screen_name': 'kdnuggets', 'name': 'Gregory Piatetsky'}], 'hashtags': [], 'urls': [{'url': 'http://t.co/hVnBWL0R72', 'indices': [77, 99], 'expanded_url': 'http://buff.ly/1s5OuRe', 'display_url': 'buff.ly/1s5OuRe'}]}\n",
        "favorite : <bound method Status.favorite of <tweepy.models.Status object at 0x7f854492d4d0>>\n",
        "favorite_count : 0\n",
        "favorited : False\n",
        "geo : None\n",
        "id : 521336071288680449\n",
        "id_str : 521336071288680449\n",
        "in_reply_to_screen_name : None\n",
        "in_reply_to_status_id : None\n",
        "in_reply_to_status_id_str : None\n",
        "in_reply_to_user_id : None\n",
        "in_reply_to_user_id_str : None\n",
        "lang : en\n",
        "metadata : {'iso_language_code': 'en', 'result_type': 'recent'}\n",
        "parse : <bound method type.parse of <class 'tweepy.models.Status'>>\n",
        "parse_list : <bound method type.parse_list of <class 'tweepy.models.Status'>>\n",
        "place : None\n",
        "possibly_sensitive : False\n",
        "retweet : <bound method Status.retweet of <tweepy.models.Status object at 0x7f854492d4d0>>\n",
        "retweet_count : 6\n",
        "retweeted : False\n",
        "retweeted_status : <tweepy.models.Status object at 0x7f854492d610>\n",
        "retweets : <bound method Status.retweets of <tweepy.models.Status object at 0x7f854492d4d0>>\n",
        "source : Twitter for iPhone\n",
        "source_url : http://twitter.com/download/iphone\n",
        "text : RT @kdnuggets: Using Python to detect Algorithmically Generated Domain Names http://t.co/hVnBWL0R72\n",
        "truncated : False\n",
        "user : <tweepy.models.User object at 0x7f854492d650>\n"
       ]
      }
     ],
     "prompt_number": 6
    },
    {
     "cell_type": "heading",
     "level": 3,
     "metadata": {},
     "source": [
      "Inspecting a User Object"
     ]
    },
    {
     "cell_type": "code",
     "collapsed": false,
     "input": [
      "user=tweet.author\n",
      "\n",
      "for param in dir(user):\n",
      "    if not param.startswith(\"_\"):\n",
      "        print \"%s : %s\" % (param, eval(\"user.\" + param))"
     ],
     "language": "python",
     "metadata": {},
     "outputs": [
      {
       "output_type": "stream",
       "stream": "stdout",
       "text": [
        "contributors_enabled : False\n",
        "created_at : 2010-05-22 09:03:02\n",
        "default_profile : True\n",
        "default_profile_image : False\n",
        "description : Data science, javascript, nodejs, iOS & Sencha touch\n",
        "entities : {'url': {'urls': [{'url': 'http://t.co/gzMlBYVCcv', 'indices': [0, 22], 'expanded_url': 'http://in.linkedin.com/in/sandeepu', 'display_url': 'in.linkedin.com/in/sandeepu'}]}, 'description': {'urls': []}}\n",
        "favourites_count : 141\n",
        "follow : <bound method User.follow of <tweepy.models.User object at 0x7f854492d650>>\n",
        "follow_request_sent : None\n",
        "followers : <bound method User.followers of <tweepy.models.User object at 0x7f854492d650>>\n",
        "followers_count : 67\n",
        "followers_ids : <bound method User.followers_ids of <tweepy.models.User object at 0x7f854492d650>>\n",
        "following : False\n",
        "friends : <bound method User.friends of <tweepy.models.User object at 0x7f854492d650>>\n",
        "friends_count : 297\n",
        "geo_enabled : True\n",
        "id : 146775585\n",
        "id_str : 146775585\n",
        "is_translation_enabled : False\n",
        "is_translator : False\n",
        "lang : en\n",
        "listed_count : 4\n",
        "lists : <bound method User.lists of <tweepy.models.User object at 0x7f854492d650>>\n",
        "lists_memberships : <bound method User.lists_memberships of <tweepy.models.User object at 0x7f854492d650>>\n",
        "lists_subscriptions : <bound method User.lists_subscriptions of <tweepy.models.User object at 0x7f854492d650>>\n",
        "location : Cochin, Kerala, India\n",
        "name : Sandeep Unni\n",
        "notifications : None\n",
        "parse : <bound method type.parse of <class 'tweepy.models.User'>>\n",
        "parse_list : <bound method type.parse_list of <class 'tweepy.models.User'>>\n",
        "profile_background_color : C0DEED\n",
        "profile_background_image_url : http://abs.twimg.com/images/themes/theme1/bg.png\n",
        "profile_background_image_url_https : https://abs.twimg.com/images/themes/theme1/bg.png\n",
        "profile_background_tile : False\n",
        "profile_image_url : http://pbs.twimg.com/profile_images/378800000096874830/9122fec9b60fcaf9b826731473bf4b17_normal.jpeg\n",
        "profile_image_url_https : https://pbs.twimg.com/profile_images/378800000096874830/9122fec9b60fcaf9b826731473bf4b17_normal.jpeg\n",
        "profile_link_color : 0084B4\n",
        "profile_sidebar_border_color : C0DEED\n",
        "profile_sidebar_fill_color : DDEEF6\n",
        "profile_text_color : 333333\n",
        "profile_use_background_image : True\n",
        "protected : False\n",
        "screen_name : psandeepu\n",
        "statuses_count : 358\n",
        "time_zone : None\n",
        "timeline : <bound method User.timeline of <tweepy.models.User object at 0x7f854492d650>>\n",
        "unfollow : <bound method User.unfollow of <tweepy.models.User object at 0x7f854492d650>>\n",
        "url : http://t.co/gzMlBYVCcv\n",
        "utc_offset : None\n",
        "verified : False\n"
       ]
      }
     ],
     "prompt_number": 7
    },
    {
     "cell_type": "heading",
     "level": 3,
     "metadata": {},
     "source": [
      "Using Cursor for Pagination"
     ]
    },
    {
     "cell_type": "markdown",
     "metadata": {},
     "source": [
      "For data mining you will be dealing with a large amount of results. Cursor is a simple way to handle interation and results pages."
     ]
    },
    {
     "cell_type": "code",
     "collapsed": false,
     "input": [
      "results = []\n",
      "for tweet in tweepy.Cursor(api.search, q=\"IPython\").items(100):\n",
      "    results.append(tweet)\n",
      "\n",
      "print len(results)"
     ],
     "language": "python",
     "metadata": {},
     "outputs": [
      {
       "output_type": "stream",
       "stream": "stdout",
       "text": [
        "100\n"
       ]
      }
     ],
     "prompt_number": 8
    },
    {
     "cell_type": "heading",
     "level": 3,
     "metadata": {},
     "source": [
      "Store Results in a Data Frame"
     ]
    },
    {
     "cell_type": "code",
     "collapsed": false,
     "input": [
      "def process_results(results):\n",
      "    id_list = [tweet.id for tweet in results]\n",
      "    data_set = pd.DataFrame(id_list, columns=[\"id\"])\n",
      "\n",
      "    # Processing Tweet Data\n",
      "\n",
      "    data_set[\"text\"] = [tweet.text for tweet in results]\n",
      "    data_set[\"created_at\"] = [tweet.created_at for tweet in results]\n",
      "    data_set[\"retweet_count\"] = [tweet.retweet_count for tweet in results]\n",
      "    data_set[\"favorite_count\"] = [tweet.favorite_count for tweet in results]\n",
      "    data_set[\"source\"] = [tweet.source for tweet in results]\n",
      "\n",
      "    # Processing User Data\n",
      "    data_set[\"user_id\"] = [tweet.author.id for tweet in results]\n",
      "    data_set[\"user_screen_name\"] = [tweet.author.screen_name for tweet in results]\n",
      "    data_set[\"user_name\"] = [tweet.author.name for tweet in results]\n",
      "    data_set[\"user_created_at\"] = [tweet.author.created_at for tweet in results]\n",
      "    data_set[\"user_description\"] = [tweet.author.description for tweet in results]\n",
      "    data_set[\"user_followers_count\"] = [tweet.author.followers_count for tweet in results]\n",
      "    data_set[\"user_friends_count\"] = [tweet.author.friends_count for tweet in results]\n",
      "    data_set[\"user_location\"] = [tweet.author.location for tweet in results]\n",
      "\n",
      "    return data_set\n",
      "data_set = process_results(results)"
     ],
     "language": "python",
     "metadata": {},
     "outputs": [],
     "prompt_number": 9
    },
    {
     "cell_type": "heading",
     "level": 2,
     "metadata": {},
     "source": [
      "Looking at the Data"
     ]
    },
    {
     "cell_type": "code",
     "collapsed": false,
     "input": [
      "data_set.head(5)"
     ],
     "language": "python",
     "metadata": {},
     "outputs": [
      {
       "html": [
        "<div style=\"max-height:1000px;max-width:1500px;overflow:auto;\">\n",
        "<table border=\"1\" class=\"dataframe\">\n",
        "  <thead>\n",
        "    <tr style=\"text-align: right;\">\n",
        "      <th></th>\n",
        "      <th>id</th>\n",
        "      <th>text</th>\n",
        "      <th>created_at</th>\n",
        "      <th>retweet_count</th>\n",
        "      <th>favorite_count</th>\n",
        "      <th>source</th>\n",
        "      <th>user_id</th>\n",
        "      <th>user_screen_name</th>\n",
        "      <th>user_name</th>\n",
        "      <th>user_created_at</th>\n",
        "      <th>user_description</th>\n",
        "      <th>user_followers_count</th>\n",
        "      <th>user_friends_count</th>\n",
        "      <th>user_location</th>\n",
        "    </tr>\n",
        "  </thead>\n",
        "  <tbody>\n",
        "    <tr>\n",
        "      <th>0</th>\n",
        "      <td> 521338248673501184</td>\n",
        "      <td> RT @kdnuggets: Using Python to detect Algorith...</td>\n",
        "      <td>2014-10-12 16:34:59</td>\n",
        "      <td> 6</td>\n",
        "      <td> 0</td>\n",
        "      <td>   Twitter for iPhone</td>\n",
        "      <td>    7534972</td>\n",
        "      <td>          riyaaz</td>\n",
        "      <td>             Riyaz</td>\n",
        "      <td>2007-07-17 15:59:49</td>\n",
        "      <td> Professional Heretic preaching how to OR how n...</td>\n",
        "      <td>  215</td>\n",
        "      <td> 478</td>\n",
        "      <td>               Chennai, India</td>\n",
        "    </tr>\n",
        "    <tr>\n",
        "      <th>1</th>\n",
        "      <td> 521337469640249345</td>\n",
        "      <td> RT @datamusing: Easy sort and slice of pandas ...</td>\n",
        "      <td>2014-10-12 16:31:53</td>\n",
        "      <td> 2</td>\n",
        "      <td> 0</td>\n",
        "      <td>   Twitter Web Client</td>\n",
        "      <td>   58631564</td>\n",
        "      <td>    josephmisiti</td>\n",
        "      <td>     joseph misiti</td>\n",
        "      <td>2009-07-20 23:42:13</td>\n",
        "      <td> I write about Bayesian Inference, Django, Scal...</td>\n",
        "      <td> 2092</td>\n",
        "      <td> 306</td>\n",
        "      <td>    Lower East Side, New York</td>\n",
        "    </tr>\n",
        "    <tr>\n",
        "      <th>2</th>\n",
        "      <td> 521336071288680449</td>\n",
        "      <td> RT @kdnuggets: Using Python to detect Algorith...</td>\n",
        "      <td>2014-10-12 16:26:20</td>\n",
        "      <td> 6</td>\n",
        "      <td> 0</td>\n",
        "      <td>   Twitter for iPhone</td>\n",
        "      <td>  146775585</td>\n",
        "      <td>       psandeepu</td>\n",
        "      <td>      Sandeep Unni</td>\n",
        "      <td>2010-05-22 09:03:02</td>\n",
        "      <td> Data science, javascript, nodejs, iOS &amp; Sencha...</td>\n",
        "      <td>   67</td>\n",
        "      <td> 297</td>\n",
        "      <td>        Cochin, Kerala, India</td>\n",
        "    </tr>\n",
        "    <tr>\n",
        "      <th>3</th>\n",
        "      <td> 521335988548022272</td>\n",
        "      <td> RT @kdnuggets: Using Python to detect Algorith...</td>\n",
        "      <td>2014-10-12 16:26:00</td>\n",
        "      <td> 6</td>\n",
        "      <td> 0</td>\n",
        "      <td>   Twitter for iPhone</td>\n",
        "      <td> 1318985240</td>\n",
        "      <td> DataScienceDojo</td>\n",
        "      <td> Data Science Dojo</td>\n",
        "      <td>2013-03-31 19:25:57</td>\n",
        "      <td> Visit Our Website: http://t.co/mRpEkKrS55\\r\\nF...</td>\n",
        "      <td>  511</td>\n",
        "      <td> 232</td>\n",
        "      <td> Seattle, WA and Stanford, CA</td>\n",
        "    </tr>\n",
        "    <tr>\n",
        "      <th>4</th>\n",
        "      <td> 521335809987723265</td>\n",
        "      <td> @davidwhogg @exoplaneteer @kylebarbary http://...</td>\n",
        "      <td>2014-10-12 16:25:17</td>\n",
        "      <td> 0</td>\n",
        "      <td> 0</td>\n",
        "      <td> Twitter for Websites</td>\n",
        "      <td>  244991150</td>\n",
        "      <td>      fperez_org</td>\n",
        "      <td>    Fernando Perez</td>\n",
        "      <td>2011-01-30 16:28:09</td>\n",
        "      <td> Physicist, applied mathematician, scientific P...</td>\n",
        "      <td> 5174</td>\n",
        "      <td> 335</td>\n",
        "      <td>                 Berkeley, CA</td>\n",
        "    </tr>\n",
        "  </tbody>\n",
        "</table>\n",
        "</div>"
       ],
       "metadata": {},
       "output_type": "pyout",
       "prompt_number": 10,
       "text": [
        "                   id                                               text          created_at  retweet_count  \\\n",
        "0  521338248673501184  RT @kdnuggets: Using Python to detect Algorith... 2014-10-12 16:34:59              6   \n",
        "1  521337469640249345  RT @datamusing: Easy sort and slice of pandas ... 2014-10-12 16:31:53              2   \n",
        "2  521336071288680449  RT @kdnuggets: Using Python to detect Algorith... 2014-10-12 16:26:20              6   \n",
        "3  521335988548022272  RT @kdnuggets: Using Python to detect Algorith... 2014-10-12 16:26:00              6   \n",
        "4  521335809987723265  @davidwhogg @exoplaneteer @kylebarbary http://... 2014-10-12 16:25:17              0   \n",
        "\n",
        "   favorite_count                source     user_id user_screen_name          user_name     user_created_at  \\\n",
        "0               0    Twitter for iPhone     7534972           riyaaz              Riyaz 2007-07-17 15:59:49   \n",
        "1               0    Twitter Web Client    58631564     josephmisiti      joseph misiti 2009-07-20 23:42:13   \n",
        "2               0    Twitter for iPhone   146775585        psandeepu       Sandeep Unni 2010-05-22 09:03:02   \n",
        "3               0    Twitter for iPhone  1318985240  DataScienceDojo  Data Science Dojo 2013-03-31 19:25:57   \n",
        "4               0  Twitter for Websites   244991150       fperez_org     Fernando Perez 2011-01-30 16:28:09   \n",
        "\n",
        "                                    user_description  user_followers_count  user_friends_count  \\\n",
        "0  Professional Heretic preaching how to OR how n...                   215                 478   \n",
        "1  I write about Bayesian Inference, Django, Scal...                  2092                 306   \n",
        "2  Data science, javascript, nodejs, iOS & Sencha...                    67                 297   \n",
        "3  Visit Our Website: http://t.co/mRpEkKrS55\\r\\nF...                   511                 232   \n",
        "4  Physicist, applied mathematician, scientific P...                  5174                 335   \n",
        "\n",
        "                  user_location  \n",
        "0                Chennai, India  \n",
        "1     Lower East Side, New York  \n",
        "2         Cochin, Kerala, India  \n",
        "3  Seattle, WA and Stanford, CA  \n",
        "4                  Berkeley, CA  "
       ]
      }
     ],
     "prompt_number": 10
    },
    {
     "cell_type": "code",
     "collapsed": false,
     "input": [
      "data_set.tail(5)"
     ],
     "language": "python",
     "metadata": {},
     "outputs": [
      {
       "html": [
        "<div style=\"max-height:1000px;max-width:1500px;overflow:auto;\">\n",
        "<table border=\"1\" class=\"dataframe\">\n",
        "  <thead>\n",
        "    <tr style=\"text-align: right;\">\n",
        "      <th></th>\n",
        "      <th>id</th>\n",
        "      <th>text</th>\n",
        "      <th>created_at</th>\n",
        "      <th>retweet_count</th>\n",
        "      <th>favorite_count</th>\n",
        "      <th>source</th>\n",
        "      <th>user_id</th>\n",
        "      <th>user_screen_name</th>\n",
        "      <th>user_name</th>\n",
        "      <th>user_created_at</th>\n",
        "      <th>user_description</th>\n",
        "      <th>user_followers_count</th>\n",
        "      <th>user_friends_count</th>\n",
        "      <th>user_location</th>\n",
        "    </tr>\n",
        "  </thead>\n",
        "  <tbody>\n",
        "    <tr>\n",
        "      <th>95</th>\n",
        "      <td> 521104303117717504</td>\n",
        "      <td> Clare Slogett: NBViewer great for sharing iPyt...</td>\n",
        "      <td>2014-10-12 01:05:22</td>\n",
        "      <td>  1</td>\n",
        "      <td> 1</td>\n",
        "      <td> Twitter for iPhone</td>\n",
        "      <td> 2704427049</td>\n",
        "      <td>   mritchieau</td>\n",
        "      <td>           Matt</td>\n",
        "      <td>2014-07-12 19:59:01</td>\n",
        "      <td> I'm a medical researcher from the Walter and E...</td>\n",
        "      <td>   65</td>\n",
        "      <td>   81</td>\n",
        "      <td>                          </td>\n",
        "    </tr>\n",
        "    <tr>\n",
        "      <th>96</th>\n",
        "      <td> 521104249279635456</td>\n",
        "      <td> Q for CS: Does iPython support version control...</td>\n",
        "      <td>2014-10-12 01:05:09</td>\n",
        "      <td>  1</td>\n",
        "      <td> 0</td>\n",
        "      <td> Twitter Web Client</td>\n",
        "      <td>   50933459</td>\n",
        "      <td>     ncloonan</td>\n",
        "      <td> Nicole Cloonan</td>\n",
        "      <td>2009-06-26 05:15:46</td>\n",
        "      <td> New lab head at  QIMR Berghofer Medical Resear...</td>\n",
        "      <td>  841</td>\n",
        "      <td> 1232</td>\n",
        "      <td> Brisbane, QLD, Australia </td>\n",
        "    </tr>\n",
        "    <tr>\n",
        "      <th>97</th>\n",
        "      <td> 521103719120011264</td>\n",
        "      <td> RT @ramialison_lab: Clare Sloggett iPython liv...</td>\n",
        "      <td>2014-10-12 01:03:02</td>\n",
        "      <td>  5</td>\n",
        "      <td> 0</td>\n",
        "      <td>    Twitter for Mac</td>\n",
        "      <td>  369758524</td>\n",
        "      <td> LorenaABarba</td>\n",
        "      <td>   Lorena Barba</td>\n",
        "      <td>2011-09-07 22:10:00</td>\n",
        "      <td> Engineering professor, computational scientist...</td>\n",
        "      <td> 1790</td>\n",
        "      <td>  656</td>\n",
        "      <td>            Washington, DC</td>\n",
        "    </tr>\n",
        "    <tr>\n",
        "      <th>98</th>\n",
        "      <td> 521103688673550338</td>\n",
        "      <td> RT @ctitusbrown: People interested in Project ...</td>\n",
        "      <td>2014-10-12 01:02:55</td>\n",
        "      <td> 16</td>\n",
        "      <td> 0</td>\n",
        "      <td> Twitter for iPhone</td>\n",
        "      <td>   34540379</td>\n",
        "      <td>   ethanwhite</td>\n",
        "      <td>    Ethan White</td>\n",
        "      <td>2009-04-23 05:10:52</td>\n",
        "      <td> I'm a happily married dad and a scientist. I l...</td>\n",
        "      <td> 2031</td>\n",
        "      <td>  216</td>\n",
        "      <td>                 Logan, UT</td>\n",
        "    </tr>\n",
        "    <tr>\n",
        "      <th>99</th>\n",
        "      <td> 521103611179597824</td>\n",
        "      <td> RT @ramialison_lab: Clare Sloggett iPython liv...</td>\n",
        "      <td>2014-10-12 01:02:37</td>\n",
        "      <td>  5</td>\n",
        "      <td> 0</td>\n",
        "      <td>          TweetDeck</td>\n",
        "      <td>   26616462</td>\n",
        "      <td>  ctitusbrown</td>\n",
        "      <td>    Titus Brown</td>\n",
        "      <td>2009-03-25 22:52:41</td>\n",
        "      <td> So interdisciplinary I occasionally risk being...</td>\n",
        "      <td> 4663</td>\n",
        "      <td>  101</td>\n",
        "      <td>  A secure, hidden bunker.</td>\n",
        "    </tr>\n",
        "  </tbody>\n",
        "</table>\n",
        "</div>"
       ],
       "metadata": {},
       "output_type": "pyout",
       "prompt_number": 11,
       "text": [
        "                    id                                               text          created_at  retweet_count  \\\n",
        "95  521104303117717504  Clare Slogett: NBViewer great for sharing iPyt... 2014-10-12 01:05:22              1   \n",
        "96  521104249279635456  Q for CS: Does iPython support version control... 2014-10-12 01:05:09              1   \n",
        "97  521103719120011264  RT @ramialison_lab: Clare Sloggett iPython liv... 2014-10-12 01:03:02              5   \n",
        "98  521103688673550338  RT @ctitusbrown: People interested in Project ... 2014-10-12 01:02:55             16   \n",
        "99  521103611179597824  RT @ramialison_lab: Clare Sloggett iPython liv... 2014-10-12 01:02:37              5   \n",
        "\n",
        "    favorite_count              source     user_id user_screen_name       user_name     user_created_at  \\\n",
        "95               1  Twitter for iPhone  2704427049       mritchieau            Matt 2014-07-12 19:59:01   \n",
        "96               0  Twitter Web Client    50933459         ncloonan  Nicole Cloonan 2009-06-26 05:15:46   \n",
        "97               0     Twitter for Mac   369758524     LorenaABarba    Lorena Barba 2011-09-07 22:10:00   \n",
        "98               0  Twitter for iPhone    34540379       ethanwhite     Ethan White 2009-04-23 05:10:52   \n",
        "99               0           TweetDeck    26616462      ctitusbrown     Titus Brown 2009-03-25 22:52:41   \n",
        "\n",
        "                                     user_description  user_followers_count  user_friends_count  \\\n",
        "95  I'm a medical researcher from the Walter and E...                    65                  81   \n",
        "96  New lab head at  QIMR Berghofer Medical Resear...                   841                1232   \n",
        "97  Engineering professor, computational scientist...                  1790                 656   \n",
        "98  I'm a happily married dad and a scientist. I l...                  2031                 216   \n",
        "99  So interdisciplinary I occasionally risk being...                  4663                 101   \n",
        "\n",
        "                user_location  \n",
        "95                             \n",
        "96  Brisbane, QLD, Australia   \n",
        "97             Washington, DC  \n",
        "98                  Logan, UT  \n",
        "99   A secure, hidden bunker.  "
       ]
      }
     ],
     "prompt_number": 11
    },
    {
     "cell_type": "heading",
     "level": 1,
     "metadata": {},
     "source": [
      "Visualizing Results"
     ]
    },
    {
     "cell_type": "code",
     "collapsed": false,
     "input": [
      "sources = data_set[\"source\"].value_counts()[:5][::-1]\n",
      "\n",
      "plt.barh(xrange(len(sources)), sources.values)\n",
      "plt.yticks(np.arange(len(sources)) + 0.4, sources.index)\n",
      "plt.show()"
     ],
     "language": "python",
     "metadata": {},
     "outputs": [
      {
       "metadata": {},
       "output_type": "display_data",
       "png": "[encoded data removed]",
       "text": [
        "<matplotlib.figure.Figure at 0x7f85441f5690>"
       ]
      }
     ],
     "prompt_number": 12
    }
   ],
   "metadata": {}
  }
 ]
}
